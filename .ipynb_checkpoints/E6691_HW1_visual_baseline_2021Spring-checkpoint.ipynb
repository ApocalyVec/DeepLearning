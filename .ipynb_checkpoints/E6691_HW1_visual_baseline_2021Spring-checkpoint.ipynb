{
 "cells": [
  {
   "cell_type": "markdown",
   "metadata": {
    "colab_type": "text",
    "id": "LWWmSBC070u3"
   },
   "source": [
    "# E6691 Assignment-1   \n",
    "# Spring 2021"
   ]
  },
  {
   "cell_type": "markdown",
   "metadata": {},
   "source": [
    "## 1.2 & 1.3    1-dimensional Convolution and Correlation \n",
    "### Below is visualization codes provided by the instructors"
   ]
  },
  {
   "cell_type": "code",
   "execution_count": 1,
   "metadata": {
    "colab": {},
    "colab_type": "code",
    "id": "eVke4FIn7mz6"
   },
   "outputs": [],
   "source": [
    "from IPython.display import HTML\n",
    "from matplotlib import animation\n",
    "from matplotlib.font_manager import FontProperties\n",
    "\n",
    "import matplotlib.pyplot as plt\n",
    "\n",
    "\n",
    "def animate(i, n_conv, output_signal, conv_mask, l2, l3, l4):\n",
    "    \"\"\"\n",
    "    animate update the data for the FuncAnimation design\n",
    "    \n",
    "    Args:\n",
    "        i (int): number of frame visualized\n",
    "        n_conv (int): length of conv_mask\n",
    "        output_signal (list): list of the applied convolution\n",
    "        conv_mask (list): list of the conv_mask elements\n",
    "        l2 (Line2D): dataset for the visualization of conv mask\n",
    "        l3 (Line2D): dataset for the output signal (points)\n",
    "        l4 (Line2D): dataset for the output signal (line)\n",
    "    \"\"\"\n",
    "    left = len(conv_mask) // 2\n",
    "    right = len(conv_mask) - left - 1\n",
    "    l2.set_data(range(i - left - 1, i + right), conv_mask)\n",
    "    l3.set_data(range(0, i), [output_signal[x] for x in range(0, i)])\n",
    "    l4.set_data(range(0, i), [output_signal[x] for x in range(0, i)])\n",
    "    \n",
    "def visualize_1dcond(input_signal, output_signal, conv_mask, conv=True):\n",
    "    \"\"\"\n",
    "    visualize_1dcond creates a jshtml object to visualizes the a 1d convolution \n",
    "    with matplotlib.animation.FuncAnimation\n",
    "    \n",
    "    The startframe is -1 (no convolution applied)\n",
    "    \n",
    "    Args:\n",
    "        input_signal (list): list of the input_signla elements\n",
    "        output_signal (list): list of the applied convolution\n",
    "        conv_mask (list): list of the conv_mask elements\n",
    "    \n",
    "    Returns:\n",
    "        ani (jshtml): Return the animation as jshtml\n",
    "    \n",
    "    Todo:\n",
    "        * Making parameters available to the function and not hardcoded\n",
    "    \"\"\"\n",
    "    n_conv = len(conv_mask)\n",
    "    n_input_signal = len(input_signal)\n",
    "    \n",
    "    # Calculate the boundaries of the plot\n",
    "    min_x = -n_conv\n",
    "    max_x = len(input_signal)+n_conv\n",
    "    min_y = min(output_signal)-1\n",
    "    max_y = min(output_signal)+1\n",
    "    \n",
    "    # Initialize the plot\n",
    "    fontP = FontProperties()\n",
    "    fontP.set_size('small')\n",
    "    plt.rcParams['figure.figsize'] = [8, 4]\n",
    "    fig, ax = plt.subplots(nrows=2, ncols=1)\n",
    "    if conv:\n",
    "        fig.suptitle('Visualization conv1d')\n",
    "    else:\n",
    "        fig.suptitle('Visualization correlation')\n",
    "    ax[0].axis([min_x, max_x, -1, max(output_signal)+1])\n",
    "    ax[0].set_ylabel('Signal')\n",
    "    ax[1].axis([min_x, max_x, -1, max(output_signal)+1])\n",
    "    ax[1].set_ylabel('Signal')\n",
    "    ax[1].set_xlabel('Step')\n",
    "    \n",
    "    ## input signal\n",
    "    l, = ax[0].plot(range(0, n_input_signal), input_signal, label='input')\n",
    "    ## convmask\n",
    "    if conv:\n",
    "        l2, = ax[0].plot([0], [0], 'r', label='convmask')\n",
    "    else:\n",
    "        l2, = ax[0].plot([0], [0], 'r', label='corrmask')\n",
    "    ax[0].legend(prop=fontP)\n",
    "    ## output signal as points\n",
    "    l3, = ax[1].plot([0], [0], 'bo', label='output')\n",
    "    ## output signal as line\n",
    "    l4, = ax[1].plot([], [], 'b')\n",
    "    ax[0].xaxis.set_ticklabels([])\n",
    "    ax[1].legend(prop=fontP)\n",
    "    plt.subplots_adjust(hspace = 0.05)\n",
    "    \n",
    "    # Initialize animation\n",
    "    ani = animation.FuncAnimation(fig, animate, frames=n_input_signal+1, fargs=(n_conv, output_signal, conv_mask, l2, l3, l4))\n",
    "    \n",
    "    # Run animation\n",
    "    return(ani.to_jshtml())"
   ]
  },
  {
   "cell_type": "markdown",
   "metadata": {
    "colab_type": "text",
    "id": "ZaYaZAhpMPYW"
   },
   "source": [
    "## TODO: Finish These Functions (signal generator, convolution and correlation):"
   ]
  },
  {
   "cell_type": "code",
   "execution_count": 3,
   "metadata": {},
   "outputs": [],
   "source": [
    "def create_rect_signal(base_ampl=0, base_length=128, function_ampl=1, function_length=12):\n",
    "    # your implementation\n",
    "    \n",
    "    return signal\n",
    "\n",
    "def create_1dconv_mask_sawtooth(start_ampl=1, end_ampl=8, steps=1):\n",
    "    # your implementation\n",
    "    \n",
    "    return signal\n",
    "\n",
    "def calc_conv(conv_mask, input_signal):\n",
    "    # your implementation\n",
    "    \n",
    "    return output\n",
    "\n",
    "def calc_corr(corr_mask, input_signal):\n",
    "    # your implementation\n",
    "    \n",
    "    return output"
   ]
  },
  {
   "cell_type": "code",
   "execution_count": 4,
   "metadata": {
    "colab": {},
    "colab_type": "code",
    "id": "F85E3BHl8MJc"
   },
   "outputs": [
    {
     "ename": "NameError",
     "evalue": "name 'signal' is not defined",
     "output_type": "error",
     "traceback": [
      "\u001b[0;31m---------------------------------------------------------------------------\u001b[0m",
      "\u001b[0;31mNameError\u001b[0m                                 Traceback (most recent call last)",
      "\u001b[0;32m<ipython-input-4-794f65439c0c>\u001b[0m in \u001b[0;36m<module>\u001b[0;34m\u001b[0m\n\u001b[1;32m      1\u001b[0m \u001b[0;31m# Creating a rectangle signal as specified\u001b[0m\u001b[0;34m\u001b[0m\u001b[0;34m\u001b[0m\u001b[0;34m\u001b[0m\u001b[0m\n\u001b[0;32m----> 2\u001b[0;31m input_signal = create_rect_signal(base_ampl = 0, \n\u001b[0m\u001b[1;32m      3\u001b[0m                                   \u001b[0mbase_length\u001b[0m \u001b[0;34m=\u001b[0m \u001b[0;36m128\u001b[0m\u001b[0;34m,\u001b[0m\u001b[0;34m\u001b[0m\u001b[0;34m\u001b[0m\u001b[0m\n\u001b[1;32m      4\u001b[0m                                   \u001b[0mfunction_ampl\u001b[0m \u001b[0;34m=\u001b[0m \u001b[0;36m1\u001b[0m\u001b[0;34m,\u001b[0m\u001b[0;34m\u001b[0m\u001b[0;34m\u001b[0m\u001b[0m\n\u001b[1;32m      5\u001b[0m                                   function_length = 12)\n",
      "\u001b[0;32m<ipython-input-3-9b10c134d7aa>\u001b[0m in \u001b[0;36mcreate_rect_signal\u001b[0;34m(base_ampl, base_length, function_ampl, function_length)\u001b[0m\n\u001b[1;32m      2\u001b[0m     \u001b[0;31m# your implementation\u001b[0m\u001b[0;34m\u001b[0m\u001b[0;34m\u001b[0m\u001b[0;34m\u001b[0m\u001b[0m\n\u001b[1;32m      3\u001b[0m \u001b[0;34m\u001b[0m\u001b[0m\n\u001b[0;32m----> 4\u001b[0;31m     \u001b[0;32mreturn\u001b[0m \u001b[0msignal\u001b[0m\u001b[0;34m\u001b[0m\u001b[0;34m\u001b[0m\u001b[0m\n\u001b[0m\u001b[1;32m      5\u001b[0m \u001b[0;34m\u001b[0m\u001b[0m\n\u001b[1;32m      6\u001b[0m \u001b[0;32mdef\u001b[0m \u001b[0mcreate_1dconv_mask_sawtooth\u001b[0m\u001b[0;34m(\u001b[0m\u001b[0mstart_ampl\u001b[0m\u001b[0;34m=\u001b[0m\u001b[0;36m1\u001b[0m\u001b[0;34m,\u001b[0m \u001b[0mend_ampl\u001b[0m\u001b[0;34m=\u001b[0m\u001b[0;36m8\u001b[0m\u001b[0;34m,\u001b[0m \u001b[0msteps\u001b[0m\u001b[0;34m=\u001b[0m\u001b[0;36m1\u001b[0m\u001b[0;34m)\u001b[0m\u001b[0;34m:\u001b[0m\u001b[0;34m\u001b[0m\u001b[0;34m\u001b[0m\u001b[0m\n",
      "\u001b[0;31mNameError\u001b[0m: name 'signal' is not defined"
     ]
    }
   ],
   "source": [
    "# Creating a rectangle signal as specified\n",
    "input_signal = create_rect_signal(base_ampl = 0, \n",
    "                                  base_length = 128, \n",
    "                                  function_ampl = 1, \n",
    "                                  function_length = 12)"
   ]
  },
  {
   "cell_type": "code",
   "execution_count": null,
   "metadata": {
    "colab": {},
    "colab_type": "code",
    "id": "cA3jU3G08MnY"
   },
   "outputs": [],
   "source": [
    "# Creating a sawtooth signal as specified\n",
    "conv_mask = create_1dconv_mask_sawtooth(start_ampl = 1, end_ampl = 8, steps = 1)\n",
    "corr_mask = create_1dconv_mask_sawtooth(start_ampl = 1, end_ampl = 8, steps = 1)"
   ]
  },
  {
   "cell_type": "code",
   "execution_count": null,
   "metadata": {
    "colab": {},
    "colab_type": "code",
    "id": "YRb1CJUQ8Sro"
   },
   "outputs": [],
   "source": [
    "# Applying the convolution mask to the input signal\n",
    "output_signal_conv = calc_conv(conv_mask, input_signal)\n",
    "output_signal_corr = calc_corr(corr_mask, input_signal)"
   ]
  },
  {
   "cell_type": "markdown",
   "metadata": {},
   "source": [
    "## Visualization for 1D convolution"
   ]
  },
  {
   "cell_type": "code",
   "execution_count": null,
   "metadata": {
    "colab": {
     "base_uri": "https://localhost:8080/",
     "height": 679
    },
    "colab_type": "code",
    "id": "hI3qwM7I8V_o",
    "outputId": "b76dbe1f-58b1-44bf-e2be-001f5b2dfc54",
    "scrolled": false
   },
   "outputs": [],
   "source": [
    "# Visualization\n",
    "%matplotlib inline\n",
    "\n",
    "# The start frame is (-1) - no convolution applied\n",
    "HTML(visualize_1dcond(input_signal, output_signal_conv, conv_mask, conv=True))"
   ]
  },
  {
   "cell_type": "markdown",
   "metadata": {},
   "source": [
    "## Visualization for 1D correlation"
   ]
  },
  {
   "cell_type": "code",
   "execution_count": null,
   "metadata": {},
   "outputs": [],
   "source": [
    "# Visualization\n",
    "%matplotlib inline\n",
    "\n",
    "# The start frame is (-1) - no convolution applied\n",
    "HTML(visualize_1dcond(input_signal, output_signal_corr, corr_mask, conv=False))"
   ]
  },
  {
   "cell_type": "markdown",
   "metadata": {
    "colab_type": "text",
    "id": "JFyXulqwI-0b"
   },
   "source": [
    "# 1.4 Visualization for dilated Convolution(1.4), for the 32*32 resolution image, you can use MNIST or CIFAR10 dataset for convenience."
   ]
  },
  {
   "cell_type": "markdown",
   "metadata": {},
   "source": [
    "### CIFAR10 Image Loading"
   ]
  },
  {
   "cell_type": "code",
   "execution_count": null,
   "metadata": {},
   "outputs": [],
   "source": [
    "import torch\n",
    "import torchvision\n",
    "import torchvision.transforms as transforms\n",
    "\n",
    "transform = transforms.Compose(\n",
    "    [transforms.ToTensor(),\n",
    "     transforms.Normalize((0.5, 0.5, 0.5), (0.5, 0.5, 0.5))])\n",
    "\n",
    "dataset = torchvision.datasets.CIFAR10(root='./data', download=True, transform=transform)"
   ]
  },
  {
   "cell_type": "code",
   "execution_count": null,
   "metadata": {},
   "outputs": [],
   "source": [
    "import matplotlib.pyplot as plt\n",
    "import numpy as np\n",
    "\n",
    "dataloader = torch.utils.data.DataLoader(dataset, batch_size=1, shuffle=True)\n",
    "\n",
    "classes = ('plane', 'car', 'bird', 'cat',\n",
    "           'deer', 'dog', 'frog', 'horse', 'ship', 'truck')\n",
    "\n",
    "def imshow(img):\n",
    "    img = img / 2 + 0.5     # unnormalize\n",
    "    npimg = img.numpy()\n",
    "    plt.imshow(np.transpose(npimg, (1, 2, 0)))\n",
    "    plt.show()\n",
    "\n",
    "dataiter = iter(dataloader)\n",
    "images, labels = dataiter.next()\n",
    "\n",
    "# show images\n",
    "imshow(torchvision.utils.make_grid(images))"
   ]
  },
  {
   "cell_type": "code",
   "execution_count": null,
   "metadata": {},
   "outputs": [],
   "source": [
    "image = images / 2 + 0.5\n",
    "image = image.numpy()\n",
    "image = image[0]\n",
    "image = np.transpose(image, (1, 2, 0))"
   ]
  },
  {
   "cell_type": "markdown",
   "metadata": {},
   "source": [
    "## TODO: Finished These Functions (dilated_kernel generator, image padding, 2D convolution):"
   ]
  },
  {
   "cell_type": "code",
   "execution_count": null,
   "metadata": {},
   "outputs": [],
   "source": [
    "def dilute_kernel(kernel, dilution):\n",
    "    \"\"\"\n",
    "    Args:\n",
    "        kernel (np.array): convolution kernel\n",
    "        dilution (int): number of holes\n",
    "    \"\"\"\n",
    "    # your implementation\n",
    "    \n",
    "    return diluted_kernel\n",
    "\n",
    "def pad_img(image, diluted_kernel):\n",
    "    # your implementation\n",
    "    \n",
    "    return image\n",
    "\n",
    "def calc_conv2d(image, padded_img, diluted_kernel):\n",
    "    # your implementation\n",
    "    \n",
    "    return conved_image"
   ]
  },
  {
   "cell_type": "code",
   "execution_count": null,
   "metadata": {
    "colab": {},
    "colab_type": "code",
    "id": "23oWPfHA8Zzq"
   },
   "outputs": [],
   "source": [
    "import numpy as np\n",
    "import math\n",
    "import matplotlib.pyplot as plt\n",
    "from mpl_toolkits.axes_grid1 import make_axes_locatable\n",
    "from skimage.transform import resize\n",
    "def plot_ax(fig, ax, n_row, n_col, image, title, ylabel = ''):\n",
    "    \"\"\"\n",
    "    plots the image of a subplot\n",
    "        \n",
    "    Args:\n",
    "        fig (figure): Figure object of the total plot\n",
    "        ax (axis): Axis object\n",
    "        n_row (integer): Row index, on which subaxis the image should be plotted\n",
    "        n_col (integer): Col index, on which subaxis the image should be plotted\n",
    "        image (np array): Image to plot\n",
    "        title (str): Title of the subplot\n",
    "        ylabel: Label of the Y-Axis\n",
    "    \"\"\"\n",
    "    major_ticks = np.arange(0, image.shape[0], 1)\n",
    "    minor_ticks = np.arange(0, image.shape[0], 1)\n",
    "    ax[n_row, n_col].set_xticks(major_ticks)\n",
    "    ax[n_row, n_col].set_xticks(minor_ticks, minor=True)\n",
    "    ax[n_row, n_col].set_yticks(major_ticks)\n",
    "    ax[n_row, n_col].set_yticks(minor_ticks, minor=True)\n",
    "    ax[n_row, n_col].xaxis.set_ticklabels([])\n",
    "    ax[n_row, n_col].yaxis.set_ticklabels([])\n",
    "    #ax[n_row, n_col].grid()\n",
    "    ax[n_row, n_col].set_title(title)\n",
    "    ax[n_row, n_col].set_ylabel(ylabel)\n",
    "    im1 = ax[n_row, n_col].imshow(image, extent=[0, image.shape[0], 0, image.shape[0]], cmap='RdBu', vmin=-8, vmax=8)\n",
    "    divider = make_axes_locatable(ax[n_row, n_col])\n",
    "    cax = divider.append_axes('right', size='5%', pad=0.05)\n",
    "    fig.colorbar(im1, cax=cax, orientation='vertical')\n",
    "    \n",
    "def visualize(image, kernel, dilutions = [0]):\n",
    "    \"\"\"\n",
    "    visualizes different diluted convolutions for an image and kernel\n",
    "    \n",
    "    Args:\n",
    "        image (np_array): Image to plot\n",
    "        kernel (np_array): Kernel values before dilution\n",
    "        dilutions (list): List of how many steps applied\n",
    "    \"\"\"\n",
    "    plt.rcParams['figure.figsize'] = [12, 12]\n",
    "    fig, ax = plt.subplots(nrows = max(len(dilutions)+1,2), ncols = 3)\n",
    "    plot_ax(fig, ax, 0, 0, image, 'Raw image')\n",
    "    plot_ax(fig, ax, 0, 1, kernel, 'Raw kernel')\n",
    "    ax[0, 2].axis('off')\n",
    "    i = 1\n",
    "    for dilution in dilutions:\n",
    "        diluted_kernel = dilute_kernel(kernel, dilution)\n",
    "        padded_img = pad_img(image, diluted_kernel)\n",
    "        conved_img = calc_conv2d(image, padded_img, diluted_kernel)\n",
    "        plot_ax(fig, ax, i, 0, padded_img, 'Pad images', 'Dolution: ' + str(dilution))\n",
    "        plot_ax(fig, ax, i, 1, diluted_kernel, 'Diluted kernel')\n",
    "        plot_ax(fig, ax, i, 2, conved_img, 'Output')\n",
    "        i = i + 1"
   ]
  },
  {
   "cell_type": "markdown",
   "metadata": {},
   "source": [
    "## Visualization for 2D convolution on CIFAR10 images"
   ]
  },
  {
   "cell_type": "code",
   "execution_count": null,
   "metadata": {},
   "outputs": [],
   "source": [
    "kernel = np.array([[0,-1,0],[-1,5,-1],[0,-1,0]])\n",
    "dilutions = [1, 2, 4]\n",
    "visualize(image, kernel, dilutions)"
   ]
  }
 ],
 "metadata": {
  "colab": {
   "collapsed_sections": [],
   "name": "E6040-HW1-visual-baseline",
   "provenance": [],
   "toc_visible": true
  },
  "kernelspec": {
   "display_name": "Python 3",
   "language": "python",
   "name": "python3"
  },
  "language_info": {
   "codemirror_mode": {
    "name": "ipython",
    "version": 3
   },
   "file_extension": ".py",
   "mimetype": "text/x-python",
   "name": "python",
   "nbconvert_exporter": "python",
   "pygments_lexer": "ipython3",
   "version": "3.8.0"
  }
 },
 "nbformat": 4,
 "nbformat_minor": 1
}
